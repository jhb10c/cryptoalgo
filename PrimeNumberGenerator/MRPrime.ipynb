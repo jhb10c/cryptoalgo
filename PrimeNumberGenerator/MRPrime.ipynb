{
 "cells": [
  {
   "cell_type": "markdown",
   "metadata": {},
   "source": [
    "## Miller-Rabin Primality Test\n",
    "\n",
    "The Miller-Rabin algorithm is an algorithm that determines whether a given number is prime. The basis of the algorithm is dependent on the observation that if $N$ is prime then $|Z_N^*|=N-1$, and so for any\n",
    "number in $|Z_N^*|$ we have $a^{N-1} = 1 mod N$. Necessarily, a given integer N is prime if  $a^{N-1} = 1 mod N$ for all $a$ in $|Z_N^*|$. On the other hand, a given integer N is composite if there exists an $a$ such that  $a^{N-1} \\neq 1 mod N$. An element $a\\in Z_N$ such that  $a^{N-1} \\neq 1 mod N$ is called a witness that N is composite, shortened to be witness.\n",
    "\n",
    "To test whether a given integer N is prime, the Miller-Rabin algorithm chooses a random element and determines if it is a witness. The best case scenario is that if N is not prime then there is a large probability that a random element is a witness. The following can be shown.\n",
    "\n",
    "**Lemma.** Fix N. Say there exists a witness that N is composite. Then at least half the elements of $ Z_N^*$ are witnesses that N is composite.\n",
    "\n",
    "However, there are infinitely-many composite numbers N that do not have any witnesses! \n",
    "\n",
    "\n",
    "\n"
   ]
  },
  {
   "cell_type": "markdown",
   "metadata": {},
   "source": [
    "Before we implement the Miller-Rabin Primality Test, we will implement an Algorithm for modular exponentiation that runs in polynomial time with respect to the length of the exponent represented as a binary number. \n",
    "\n",
    "We are assuming addition, multiplication, and division runs in linear time when constructing our instance of this algorithm. \n",
    "\n",
    "**Algorithm Name**: ModExp\n",
    "\n",
    "**input**: $a,b,N$\n",
    "\n",
    "**output**: $a^b mod N$\n",
    "\n",
    "ModExp(a,b,N):\n",
    "\n",
    "if b =1 then return a\n",
    "else\n",
    "\n",
    "      if b is even\n",
    "         t = ModExp(a,b/2,N)\n",
    "         return $t^2 mod N$\n",
    "      if N is odd\n",
    "         t =ModExp(a,(b-1)/2,N)\n",
    "         return $a*t^2 mod N$\n",
    "  \n",
    "\n"
   ]
  },
  {
   "cell_type": "code",
   "execution_count": 101,
   "metadata": {},
   "outputs": [
    {
     "data": {
      "text/plain": [
       "375"
      ]
     },
     "execution_count": 101,
     "metadata": {},
     "output_type": "execute_result"
    }
   ],
   "source": [
    "def modExp(a,b,N):\n",
    "    if b ==1:\n",
    "        return a\n",
    "    else: \n",
    "        if b%2 ==0:\n",
    "            t = modExp(a,int(b/2),N)\n",
    "            return t**2 % N\n",
    "        if b%2 ==1:\n",
    "            t = modExp(a,int((b-1)/2),N)\n",
    "            return a*t**2 % N\n",
    "\n",
    "modExp(11,2,15)\n",
    "modExp(29,100,35)\n",
    "modExp(3,560,561)"
   ]
  },
  {
   "cell_type": "markdown",
   "metadata": {},
   "source": [
    "## Problem 1 \n",
    "\n",
    "Construct a function that determines whether $a\\in Z_N^*$ is a witness given $N$.\n"
   ]
  },
  {
   "cell_type": "code",
   "execution_count": 99,
   "metadata": {},
   "outputs": [
    {
     "data": {
      "text/plain": [
       "True"
      ]
     },
     "execution_count": 99,
     "metadata": {},
     "output_type": "execute_result"
    }
   ],
   "source": [
    "def isWitness(a,N):\n",
    "    check = modExp(a,N-1,N)\n",
    "    if check == 1:\n",
    "        return False\n",
    "    if check != 1:\n",
    "        return True\n",
    "isWitness(2,6)"
   ]
  },
  {
   "cell_type": "markdown",
   "metadata": {},
   "source": [
    "## Problem 2 \n",
    "\n",
    "Further, if there exists a non-identity element of $a\\in Z_N$ that is not an element of $Z_N^*$ then $N$ is not prime. Construct a function that determines whether $a\\in Z_N$ is an element of $a\\in Z_N^*$.\n"
   ]
  },
  {
   "cell_type": "code",
   "execution_count": 349,
   "metadata": {},
   "outputs": [
    {
     "data": {
      "text/plain": [
       "False"
      ]
     },
     "execution_count": 349,
     "metadata": {},
     "output_type": "execute_result"
    }
   ],
   "source": [
    "def RGCD(a,b): \n",
    "    if a%b == 0:\n",
    "        return b\n",
    "    else:\n",
    "        return RGCD(b,a%b)\n",
    "    \n",
    "def isMultiplicative(a,N):\n",
    "    check = RGCD(a,N)\n",
    "    if check == 1 :\n",
    "        return True\n",
    "    if check !=1:\n",
    "        return False \n",
    "    \n",
    "isMultiplicative(2,6)"
   ]
  },
  {
   "cell_type": "markdown",
   "metadata": {},
   "source": [
    "We will now assume the numbers less then N that we need to test are coprime with N. Otherwise, N is not prime.  "
   ]
  },
  {
   "cell_type": "markdown",
   "metadata": {},
   "source": [
    "## Refining Witnesses\n",
    "\n",
    "Let $N - 1 = 2^ru$ where u is odd and $r \\geq 1$. Previously we tested for witnesses of the form $a^{N-1} = a^{2^r u}$. For the sequence of terms $(a^u, a^{2u}, \\ldots a^{2^ru})$, if there exists a term a^{2^iu} equal to 1,-1 then $a^{N-1}=1$. A stronger version of witness testing would check if a term equal to either to 1,-1 does not exist in the sequence. \n",
    "\n",
    "We say that $a \\in Z_N^*$ is a strong witness that N is composite (or simply a strong witness) if $a^{u}\\neq \\pm 1 mod N$ and $a^{2^{i}u}\\neq -1 mod N$ for all $\\{1,\\ldots,  r-1\\}.$ \n",
    "\n",
    "Note that if $a$ is not a strong witness then $a$ is not a witness. Conversely if $a$ is a witness then it is a strong witness. Further note that when an element $a$ is not a strong witness then the sequence $(a^u, a^{2u}, \\ldots a^{2^ru})$, takes the following forms: $(\\pm 1, 1, \\ldots,  1)$ or $(*,\\ldots,*,- 1, 1, \\ldots , 1)$ where $*$ denotes an arbitrary term.\n",
    "\n",
    "The following two lemmas can be shown for strong witnesses.\n",
    "\n",
    "**Lemma.** If N is a prime then there is no strong witness for N.\n",
    "\n",
    "\n",
    "**Lemma.** Let N be an odd, composite number that is not a prime\n",
    "power. Then at least half the elements of $ Z_N^*$ are strong witnesses that N is composite.\n",
    "\n",
    "\n"
   ]
  },
  {
   "cell_type": "markdown",
   "metadata": {},
   "source": [
    "## Problem 3\n",
    "\n",
    "Construct a function that determines whether $a\\in Z_N^*$ is a strong witness given $N$.\n"
   ]
  },
  {
   "cell_type": "code",
   "execution_count": 476,
   "metadata": {
    "scrolled": false
   },
   "outputs": [
    {
     "name": "stdout",
     "output_type": "stream",
     "text": [
      "False 1 False 1 560 561\n",
      "False 1 True 2 560 561\n",
      "False 1 True 4 560 561\n",
      "False 1 True 5 560 561\n",
      "False 1 True 7 560 561\n",
      "False 1 True 8 560 561\n",
      "False 1 True 10 560 561\n",
      "False 1 True 13 560 561\n",
      "False 1 True 14 560 561\n",
      "False 1 True 16 560 561\n",
      "False 1 True 19 560 561\n",
      "False 1 True 20 560 561\n",
      "False 1 True 23 560 561\n",
      "False 1 True 25 560 561\n",
      "False 1 True 26 560 561\n",
      "False 1 True 28 560 561\n",
      "False 1 True 29 560 561\n",
      "False 1 True 31 560 561\n",
      "False 1 True 32 560 561\n",
      "False 1 True 35 560 561\n",
      "False 1 True 37 560 561\n",
      "False 1 True 38 560 561\n",
      "False 1 True 40 560 561\n",
      "False 1 True 41 560 561\n",
      "False 1 True 43 560 561\n",
      "False 1 True 46 560 561\n",
      "False 1 True 47 560 561\n",
      "False 1 True 49 560 561\n",
      "False 1 False 50 560 561\n",
      "False 1 True 52 560 561\n",
      "False 1 True 53 560 561\n",
      "False 1 True 56 560 561\n",
      "False 1 True 58 560 561\n",
      "False 1 True 59 560 561\n",
      "False 1 True 61 560 561\n",
      "False 1 True 62 560 561\n",
      "False 1 True 64 560 561\n",
      "False 1 True 65 560 561\n",
      "False 1 True 67 560 561\n",
      "False 1 True 70 560 561\n",
      "False 1 True 71 560 561\n",
      "False 1 True 73 560 561\n",
      "False 1 True 74 560 561\n",
      "False 1 True 76 560 561\n",
      "False 1 True 79 560 561\n",
      "False 1 True 80 560 561\n",
      "False 1 True 82 560 561\n",
      "False 1 True 83 560 561\n",
      "False 1 True 86 560 561\n",
      "False 1 True 89 560 561\n",
      "False 1 True 91 560 561\n",
      "False 1 True 92 560 561\n",
      "False 1 True 94 560 561\n",
      "False 1 True 95 560 561\n",
      "False 1 True 97 560 561\n",
      "False 1 True 98 560 561\n",
      "False 1 True 100 560 561\n",
      "False 1 False 101 560 561\n",
      "False 1 False 103 560 561\n",
      "False 1 True 104 560 561\n",
      "False 1 True 106 560 561\n",
      "False 1 True 107 560 561\n",
      "False 1 True 109 560 561\n",
      "False 1 True 112 560 561\n",
      "False 1 True 113 560 561\n",
      "False 1 True 115 560 561\n",
      "False 1 True 116 560 561\n",
      "False 1 True 118 560 561\n",
      "False 1 True 122 560 561\n",
      "False 1 True 124 560 561\n",
      "False 1 True 125 560 561\n",
      "False 1 True 127 560 561\n",
      "False 1 True 128 560 561\n",
      "False 1 True 130 560 561\n",
      "False 1 True 131 560 561\n",
      "False 1 True 133 560 561\n",
      "False 1 True 134 560 561\n",
      "False 1 True 137 560 561\n",
      "False 1 True 139 560 561\n",
      "False 1 True 140 560 561\n",
      "False 1 True 142 560 561\n",
      "False 1 True 145 560 561\n",
      "False 1 True 146 560 561\n",
      "False 1 True 148 560 561\n",
      "False 1 True 149 560 561\n",
      "False 1 True 151 560 561\n",
      "False 1 True 152 560 561\n",
      "False 1 True 155 560 561\n",
      "False 1 True 157 560 561\n",
      "False 1 True 158 560 561\n",
      "False 1 True 160 560 561\n",
      "False 1 True 161 560 561\n",
      "False 1 True 163 560 561\n",
      "False 1 True 164 560 561\n",
      "False 1 True 166 560 561\n",
      "False 1 True 167 560 561\n",
      "False 1 True 169 560 561\n",
      "False 1 True 172 560 561\n",
      "False 1 True 173 560 561\n",
      "False 1 True 175 560 561\n",
      "False 1 True 178 560 561\n",
      "False 1 True 179 560 561\n",
      "False 1 True 181 560 561\n",
      "False 1 True 182 560 561\n",
      "False 1 True 184 560 561\n",
      "False 1 True 185 560 561\n",
      "False 1 True 188 560 561\n",
      "False 1 True 190 560 561\n",
      "False 1 True 191 560 561\n",
      "False 1 True 193 560 561\n",
      "False 1 True 194 560 561\n",
      "False 1 True 196 560 561\n",
      "False 1 True 197 560 561\n",
      "False 1 True 199 560 561\n",
      "False 1 True 200 560 561\n",
      "False 1 True 202 560 561\n",
      "False 1 True 203 560 561\n",
      "False 1 True 205 560 561\n",
      "False 1 True 206 560 561\n",
      "False 1 True 208 560 561\n",
      "False 1 True 211 560 561\n",
      "False 1 True 212 560 561\n",
      "False 1 True 214 560 561\n",
      "False 1 True 215 560 561\n",
      "False 1 True 217 560 561\n",
      "False 1 True 218 560 561\n",
      "False 1 True 223 560 561\n",
      "False 1 True 224 560 561\n",
      "False 1 True 226 560 561\n",
      "False 1 True 227 560 561\n",
      "False 1 True 229 560 561\n",
      "False 1 True 230 560 561\n",
      "False 1 True 232 560 561\n",
      "False 1 True 233 560 561\n",
      "False 1 True 235 560 561\n",
      "False 1 True 236 560 561\n",
      "False 1 True 239 560 561\n",
      "False 1 True 241 560 561\n",
      "False 1 True 244 560 561\n",
      "False 1 True 245 560 561\n",
      "False 1 True 247 560 561\n",
      "False 1 True 248 560 561\n",
      "False 1 True 250 560 561\n",
      "False 1 True 251 560 561\n",
      "False 1 True 254 560 561\n",
      "False 1 False 256 560 561\n",
      "False 1 True 257 560 561\n",
      "False 1 True 259 560 561\n",
      "False 1 True 260 560 561\n",
      "False 1 True 262 560 561\n",
      "False 1 True 263 560 561\n",
      "False 1 True 265 560 561\n",
      "False 1 True 266 560 561\n",
      "False 1 True 268 560 561\n",
      "False 1 True 269 560 561\n",
      "False 1 True 271 560 561\n",
      "False 1 True 274 560 561\n",
      "False 1 True 277 560 561\n",
      "False 1 True 278 560 561\n",
      "False 1 True 280 560 561\n",
      "False 1 True 281 560 561\n",
      "False 1 True 283 560 561\n",
      "False 1 True 284 560 561\n",
      "False 1 True 287 560 561\n",
      "False 1 True 290 560 561\n",
      "False 1 True 292 560 561\n",
      "False 1 True 293 560 561\n",
      "False 1 True 295 560 561\n",
      "False 1 True 296 560 561\n",
      "False 1 True 298 560 561\n",
      "False 1 True 299 560 561\n",
      "False 1 True 301 560 561\n",
      "False 1 True 302 560 561\n",
      "False 1 True 304 560 561\n",
      "False 1 False 305 560 561\n",
      "False 1 True 307 560 561\n",
      "False 1 True 310 560 561\n",
      "False 1 True 311 560 561\n",
      "False 1 True 313 560 561\n",
      "False 1 True 314 560 561\n",
      "False 1 True 316 560 561\n",
      "False 1 True 317 560 561\n",
      "False 1 True 320 560 561\n",
      "False 1 True 322 560 561\n",
      "False 1 True 325 560 561\n",
      "False 1 True 326 560 561\n",
      "False 1 True 328 560 561\n",
      "False 1 True 329 560 561\n",
      "False 1 True 331 560 561\n",
      "False 1 True 332 560 561\n",
      "False 1 True 334 560 561\n",
      "False 1 True 335 560 561\n",
      "False 1 True 337 560 561\n",
      "False 1 True 338 560 561\n",
      "False 1 True 343 560 561\n",
      "False 1 True 344 560 561\n",
      "False 1 True 346 560 561\n",
      "False 1 True 347 560 561\n",
      "False 1 True 349 560 561\n",
      "False 1 True 350 560 561\n",
      "False 1 True 353 560 561\n",
      "False 1 True 355 560 561\n",
      "False 1 True 356 560 561\n",
      "False 1 True 358 560 561\n",
      "False 1 True 359 560 561\n",
      "False 1 True 361 560 561\n",
      "False 1 True 362 560 561\n",
      "False 1 True 364 560 561\n",
      "False 1 True 365 560 561\n",
      "False 1 True 367 560 561\n",
      "False 1 True 368 560 561\n",
      "False 1 True 370 560 561\n",
      "False 1 True 371 560 561\n",
      "False 1 True 373 560 561\n",
      "False 1 True 376 560 561\n",
      "False 1 True 377 560 561\n",
      "False 1 True 379 560 561\n",
      "False 1 True 380 560 561\n",
      "False 1 True 382 560 561\n",
      "False 1 True 383 560 561\n",
      "False 1 True 386 560 561\n",
      "False 1 True 388 560 561\n",
      "False 1 True 389 560 561\n",
      "False 1 True 392 560 561\n",
      "False 1 True 394 560 561\n",
      "False 1 True 395 560 561\n",
      "False 1 True 397 560 561\n",
      "False 1 True 398 560 561\n",
      "False 1 True 400 560 561\n",
      "False 1 True 401 560 561\n",
      "False 1 True 403 560 561\n",
      "False 1 True 404 560 561\n",
      "False 1 True 406 560 561\n",
      "False 1 True 409 560 561\n",
      "False 1 True 410 560 561\n",
      "False 1 True 412 560 561\n",
      "False 1 True 413 560 561\n",
      "False 1 True 415 560 561\n",
      "False 1 True 416 560 561\n",
      "False 1 True 419 560 561\n",
      "False 1 True 421 560 561\n",
      "False 1 True 422 560 561\n",
      "False 1 True 424 560 561\n",
      "False 1 True 427 560 561\n",
      "False 1 True 428 560 561\n",
      "False 1 True 430 560 561\n",
      "False 1 True 431 560 561\n",
      "False 1 True 433 560 561\n",
      "False 1 True 434 560 561\n",
      "False 1 True 436 560 561\n",
      "False 1 True 437 560 561\n",
      "False 1 True 439 560 561\n",
      "False 1 True 443 560 561\n",
      "False 1 True 445 560 561\n",
      "False 1 True 446 560 561\n",
      "False 1 True 448 560 561\n",
      "False 1 True 449 560 561\n",
      "False 1 True 452 560 561\n",
      "False 1 True 454 560 561\n",
      "False 1 True 455 560 561\n",
      "False 1 True 457 560 561\n",
      "False 1 False 458 560 561\n",
      "False 1 False 460 560 561\n",
      "False 1 True 461 560 561\n",
      "False 1 True 463 560 561\n",
      "False 1 True 464 560 561\n",
      "False 1 True 466 560 561\n",
      "False 1 True 467 560 561\n",
      "False 1 True 469 560 561\n",
      "False 1 True 470 560 561\n",
      "False 1 True 472 560 561\n",
      "False 1 True 475 560 561\n",
      "False 1 True 478 560 561\n",
      "False 1 True 479 560 561\n",
      "False 1 True 481 560 561\n",
      "False 1 True 482 560 561\n",
      "False 1 True 485 560 561\n",
      "False 1 True 487 560 561\n",
      "False 1 True 488 560 561\n",
      "False 1 True 490 560 561\n",
      "False 1 True 491 560 561\n",
      "False 1 True 494 560 561\n",
      "False 1 True 496 560 561\n",
      "False 1 True 497 560 561\n",
      "False 1 True 499 560 561\n",
      "False 1 True 500 560 561\n",
      "False 1 True 502 560 561\n",
      "False 1 True 503 560 561\n",
      "False 1 True 505 560 561\n",
      "False 1 True 508 560 561\n",
      "False 1 True 509 560 561\n",
      "False 1 False 511 560 561\n",
      "False 1 True 512 560 561\n",
      "False 1 True 514 560 561\n",
      "False 1 True 515 560 561\n",
      "False 1 True 518 560 561\n",
      "False 1 True 520 560 561\n",
      "False 1 True 521 560 561\n",
      "False 1 True 523 560 561\n",
      "False 1 True 524 560 561\n",
      "False 1 True 526 560 561\n",
      "False 1 True 529 560 561\n",
      "False 1 True 530 560 561\n",
      "False 1 True 532 560 561\n",
      "False 1 True 533 560 561\n",
      "False 1 True 535 560 561\n",
      "False 1 True 536 560 561\n",
      "False 1 True 538 560 561\n",
      "False 1 True 541 560 561\n",
      "False 1 True 542 560 561\n",
      "False 1 True 545 560 561\n",
      "False 1 True 547 560 561\n",
      "False 1 True 548 560 561\n",
      "False 1 True 551 560 561\n",
      "False 1 True 553 560 561\n",
      "False 1 True 554 560 561\n",
      "False 1 True 556 560 561\n",
      "False 1 True 557 560 561\n",
      "False 1 True 559 560 561\n",
      "False 1 False 560 560 561\n"
     ]
    }
   ],
   "source": [
    "def highestpowerof2(even):\n",
    "    beven = bin(even)[2:]\n",
    "    for i in range(-1, -len(beven)-1,-1):\n",
    "        if beven[i] =='1':\n",
    "            return -i-1\n",
    "        \n",
    "\n",
    "def isStrongWitness(a,N):\n",
    "    #We are assuming N is Odd \n",
    "    #Testing Primality is Easy for Odd Numbers\n",
    "    if N% 2 == 0:\n",
    "        return False\n",
    "    else:\n",
    "        r = highestpowerof2(N-1)\n",
    "        u = (N-1)/(2**r)\n",
    "        #print(u)\n",
    "        for i in range(0,r):\n",
    "            apower = modExp(a,(2**i)*u,N)\n",
    "            #print(r,u,apower)\n",
    "            if i == 0 :\n",
    "                if apower == 1 or  apower == N-1:\n",
    "                    #print(\"hello1\")\n",
    "                    return False\n",
    "            if i >=1:\n",
    "                if apower == N-1:\n",
    "                    #print(\"hello2\")\n",
    "                    return False\n",
    "            \n",
    "    return True\n",
    "\n",
    "# Note We can make this better if we use recursion here to compute a^(2^i u) instead of calling modExp that computes the \n",
    "# same values more then once\n",
    "isStrongWitness(4,35)       \n",
    "isWitness(4,35)\n",
    "check = 561\n",
    "for i in range(1,check):\n",
    "    if RGCD(i,561) == 1:\n",
    "        print(isWitness(i,check),modExp(i,check-1,check),isStrongWitness(i,check),i,check-1,check)       \n",
    "    "
   ]
  },
  {
   "cell_type": "markdown",
   "metadata": {},
   "source": [
    "As you can see for 561, there are plenty of numbers that are not witnesses but are strong witnesses. As such the Carmicheal number, would be classified as prime when only testing for witnesses. But with strong witnesses, 561 would be seen to be composite. "
   ]
  },
  {
   "cell_type": "markdown",
   "metadata": {},
   "source": [
    "## Problem 4 \n",
    "\n",
    "An integer N is a perfect power if $N = M^ e$ for some integers $M$ and $e > 1$. Construct a function that determines whether $N$ is a perfect power."
   ]
  },
  {
   "cell_type": "markdown",
   "metadata": {},
   "source": [
    "1. If $N = M^e$ for some M,e then $e \\leq log_e N+1$.\n",
    "2. For N and a fixed b, check if there exists an $M$ such that \n",
    "$M^e=N.$"
   ]
  },
  {
   "cell_type": "code",
   "execution_count": 400,
   "metadata": {},
   "outputs": [
    {
     "data": {
      "text/plain": [
       "True"
      ]
     },
     "execution_count": 400,
     "metadata": {},
     "output_type": "execute_result"
    }
   ],
   "source": [
    "def binarysearch(lista,l,r,x):\n",
    "    if r>=l:\n",
    "        median = l+(r-l) // 2\n",
    "        if lista[median] == x:\n",
    "            return x\n",
    "        if lista[median] < x:\n",
    "            return binarysearch(lista,l,median-1,x)\n",
    "    \n",
    "        if lista[median] > x:\n",
    "            return binarysearch(lista,median+1,r,x)\n",
    "    else:\n",
    "        return -1\n",
    "    \n",
    "def isPerfectPower(N,e):\n",
    "    base = [N]\n",
    "    upperbound = len(bin(N)[2:])\n",
    "    m = 2\n",
    "    while m <= int(N**(1/float(e)))+1:\n",
    "        for i in range(2,upperbound+1):\n",
    "            if binarysearch(base,0,len(base)-1,m**i) == N:\n",
    "                return True\n",
    "        m=m+1\n",
    "    return False\n",
    "    \n",
    "    \n",
    "isPerfectPower(9,2)\n",
    "\n",
    "\n",
    "def isPerfect(N):\n",
    "    upperbound = len(bin(N)[2:])\n",
    "    e = 2\n",
    "    while e< upperbound:\n",
    "        if isPerfectPower(N,e) == True:\n",
    "            return True\n",
    "        e= e+1\n",
    "    return False\n",
    "\n",
    "isPerfect(625)"
   ]
  },
  {
   "cell_type": "markdown",
   "metadata": {},
   "source": [
    "## The Algorithm\n",
    "\n",
    "With the previous results, we can now implement the Miller-Rabin test.\n",
    "\n",
    "**The Miller-Rabin primality test**\n",
    "\n",
    "Input: Integer $N$ and parameter $t$  \n",
    "Output: A decision as to whether $N$ is prime or composite  \n",
    "\n",
    "\n",
    "if $N$ is even, return false  \n",
    "if $N$ is a perfect power, return false  \n",
    "for $j = 1$ to $t$:  \n",
    "\n",
    "        uniformly select an element a from {1,..., N - 1}  \n",
    "        if gcd(a,N)= 1 return false\n",
    "        if a is a strong witness return false\n",
    "\n",
    "return true\n",
    "\n",
    "\n",
    "**Theorem**: If N is prime, then the Miller-Rabin test always out-\n",
    "puts \"prime\". If N is composite, then the algorithm outputs \"prime\" with\n",
    "probability at most $2^t$."
   ]
  },
  {
   "cell_type": "markdown",
   "metadata": {},
   "source": [
    "## Problem 5\n",
    "\n",
    "Implement the Miller-Rabin primality test. Note that random.randint(a, b) randomly selects an integer from the range [a,b]. Note this function is not a true source of randomness. "
   ]
  },
  {
   "cell_type": "code",
   "execution_count": 401,
   "metadata": {},
   "outputs": [
    {
     "data": {
      "text/plain": [
       "10"
      ]
     },
     "execution_count": 401,
     "metadata": {},
     "output_type": "execute_result"
    }
   ],
   "source": [
    "import random\n",
    "random.randint(1,10)"
   ]
  },
  {
   "cell_type": "code",
   "execution_count": 635,
   "metadata": {},
   "outputs": [
    {
     "data": {
      "text/plain": [
       "0"
      ]
     },
     "execution_count": 635,
     "metadata": {},
     "output_type": "execute_result"
    }
   ],
   "source": [
    "def MRisPrime(N,t):\n",
    "    if N%2 == 0:\n",
    "        if N == 2:\n",
    "            return True\n",
    "        if N != 2:\n",
    "            return False\n",
    "    if isPerfect(N)==True:\n",
    "        return False\n",
    "    for i in range(0,t):\n",
    "        x=random.randint(2,N-1)\n",
    "        if RGCD(x,N)>1:\n",
    "            #print('here1',x,RGCD(x,N))\n",
    "            return False\n",
    "        if isStrongWitness(x,N)==True:\n",
    "            #print('here2',x)\n",
    "            return False\n",
    "        \n",
    "    return True\n",
    "\n",
    "\n",
    "\n"
   ]
  },
  {
   "cell_type": "code",
   "execution_count": 676,
   "metadata": {},
   "outputs": [
    {
     "data": {
      "text/plain": [
       "168"
      ]
     },
     "execution_count": 676,
     "metadata": {},
     "output_type": "execute_result"
    }
   ],
   "source": [
    "def firstnprimes(n,accuracy):\n",
    "    '''\n",
    "    firstnprimes: Finds first n primes\n",
    "    Input: n - Upper Bound\n",
    "           accuracy - the algorithm outputs \"prime\" with probability at most  2^𝑡 when x is a composite number \n",
    "    Output: returns list of primes\n",
    "    \n",
    "    '''\n",
    "    count = []\n",
    "    for i in range(2,n):\n",
    "        if MRisPrime(i,accuracy):\n",
    "            count.append(i) \n",
    "    return count\n",
    "\n",
    "\n",
    "def firstnfound(n,accuracy):\n",
    "    '''\n",
    "    firstnfound: Find all primes less than n such using Miller-Rabin Primality Test.\n",
    "    Input: n - Upper Bound\n",
    "           accuracy - the algorithm outputs \"prime\" with probability at most  2^𝑡 when x is a composite number \n",
    "    Output: Number of primes below n \n",
    "    \n",
    "    '''\n",
    "    count = 0\n",
    "    for i in range(2,n):\n",
    "        if MRisPrime(i,accuracy):\n",
    "            count = count +1 \n",
    "    return count\n",
    "\n",
    "def simulateFirstNFound(iterations,numberofprimes,n,accuracy):\n",
    "    '''\n",
    "    firstnfound: Simulates the firstnfound for a given number of iterations. Returns the probability that firstnfound\n",
    "    found the correct number of primes \n",
    "    \n",
    "    Input: iterations - Number of iterations the experiment is ran\n",
    "            numberofprimes - Number of primes that is below n \n",
    "            n - Upper Bound\n",
    "           accuracy - the algorithm outputs \"prime\" with probability at most  2^𝑡 when x is a composite number \n",
    "    Output: Probability of Success\n",
    "    \n",
    "    '''\n",
    "    count = 0\n",
    "    for i in range(0,iterations):\n",
    "        if numberofprimes !=firstnfound(n,accuracy):\n",
    "            count = count + 1 \n",
    "    print(count,iterations)\n",
    "    return count/iterations\n",
    "\n",
    "#simulateFirstNFound(10,168,1000,5)\n",
    "\n",
    "def SeiveofE(upper):   \n",
    "    '''\n",
    "    SieveofE: Finds First N primes \n",
    "    \n",
    "    Input: upper - upper limit to check primes   \n",
    "    Output: Returns list of primes\n",
    "    \n",
    "    '''\n",
    "    ok=[x for x in range(2,upper)]\n",
    "    bool1=[1 for x in range(2,upper)]\n",
    "    \n",
    "    count =0\n",
    "    while count < len(bool1):\n",
    "        if bool1[count] == True:\n",
    "            N = ok[count]\n",
    "            for i in ok:\n",
    "                if N*i in ok:\n",
    "                    bool1[N*i-2]=0\n",
    "        count=count+1 \n",
    "        \n",
    "    primes=[]\n",
    "    for i in range(0,len(bool1)):\n",
    "        if bool1[i]==1:\n",
    "            primes.append(ok[i])\n",
    "    return primes\n"
   ]
  },
  {
   "cell_type": "code",
   "execution_count": 664,
   "metadata": {},
   "outputs": [
    {
     "name": "stdout",
     "output_type": "stream",
     "text": [
      "0 10\n"
     ]
    },
    {
     "data": {
      "text/plain": [
       "0.0"
      ]
     },
     "execution_count": 664,
     "metadata": {},
     "output_type": "execute_result"
    }
   ],
   "source": [
    "simulateFirstNFound(10,168,1000,5)"
   ]
  },
  {
   "cell_type": "code",
   "execution_count": 685,
   "metadata": {},
   "outputs": [
    {
     "data": {
      "text/plain": [
       "9592"
      ]
     },
     "execution_count": 685,
     "metadata": {},
     "output_type": "execute_result"
    }
   ],
   "source": [
    "len(firstnprimes(100000,100))"
   ]
  },
  {
   "cell_type": "code",
   "execution_count": 683,
   "metadata": {},
   "outputs": [
    {
     "data": {
      "text/plain": [
       "168"
      ]
     },
     "execution_count": 683,
     "metadata": {},
     "output_type": "execute_result"
    }
   ],
   "source": [
    "len(SeiveofE(1000))"
   ]
  },
  {
   "cell_type": "code",
   "execution_count": null,
   "metadata": {},
   "outputs": [],
   "source": []
  },
  {
   "cell_type": "code",
   "execution_count": null,
   "metadata": {},
   "outputs": [],
   "source": []
  },
  {
   "cell_type": "code",
   "execution_count": null,
   "metadata": {},
   "outputs": [],
   "source": []
  },
  {
   "cell_type": "code",
   "execution_count": null,
   "metadata": {},
   "outputs": [],
   "source": []
  },
  {
   "cell_type": "code",
   "execution_count": null,
   "metadata": {},
   "outputs": [],
   "source": []
  },
  {
   "cell_type": "code",
   "execution_count": null,
   "metadata": {},
   "outputs": [],
   "source": []
  },
  {
   "cell_type": "code",
   "execution_count": null,
   "metadata": {
    "scrolled": true
   },
   "outputs": [],
   "source": []
  },
  {
   "cell_type": "code",
   "execution_count": null,
   "metadata": {},
   "outputs": [],
   "source": []
  }
 ],
 "metadata": {
  "kernelspec": {
   "display_name": "Python 3",
   "language": "python",
   "name": "python3"
  },
  "language_info": {
   "codemirror_mode": {
    "name": "ipython",
    "version": 3
   },
   "file_extension": ".py",
   "mimetype": "text/x-python",
   "name": "python",
   "nbconvert_exporter": "python",
   "pygments_lexer": "ipython3",
   "version": "3.8.5"
  }
 },
 "nbformat": 4,
 "nbformat_minor": 4
}
